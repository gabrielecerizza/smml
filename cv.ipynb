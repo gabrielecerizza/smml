{
 "cells": [
  {
   "cell_type": "code",
   "execution_count": 1,
   "metadata": {},
   "outputs": [],
   "source": [
    "import h5py\n",
    "import numpy as np\n",
    "from collections import defaultdict\n",
    "from tqdm.auto import tqdm"
   ]
  },
  {
   "cell_type": "code",
   "execution_count": 2,
   "metadata": {},
   "outputs": [],
   "source": [
    "PATH = '../../datasets/usps/usps.h5'\n",
    "with h5py.File(PATH, 'r') as hf:\n",
    "        train = hf.get('train')\n",
    "        X_tr = train.get('data')[:]\n",
    "        y_tr = train.get('target')[:]\n",
    "        test = hf.get('test')\n",
    "        X_te = test.get('data')[:]\n",
    "        y_te = test.get('target')[:]"
   ]
  },
  {
   "cell_type": "code",
   "execution_count": null,
   "metadata": {},
   "outputs": [],
   "source": [
    "class KFoldCrossValidation:\n",
    "    def __init__(self, n_folds, seed=42):\n",
    "        self.n_folds = n_folds\n",
    "        self.seed = seed\n",
    "    \n",
    "    def cross_validate(self, estimator, X, y):\n",
    "        y_tests, errors, accuracies = [], [], []\n",
    "\n",
    "        for X_train, X_test, y_train, y_test in tqdm(\n",
    "                self.generate_folds(X, y),\n",
    "                desc='Running on fold',\n",
    "                total=self.n_folds):\n",
    "            estimator.fit(X_train, y_train)\n",
    "            score = estimator.score(X_test, y_test)\n",
    "            rescaled_error = (self.n_folds / len(y)) * score['error']\n",
    "            errors.append(rescaled_error)\n",
    "            accuracies.append(score['accuracy'])\n",
    "            y_tests.append(y_test)\n",
    "\n",
    "        return {\n",
    "            'error': np.mean(errors),\n",
    "            'accuracy': np.mean(accuracies),\n",
    "            'y_tests': y_tests\n",
    "        }\n",
    "\n",
    "    def generate_folds(self, X, y):\n",
    "        rng = np.random.default_rng(self.seed)\n",
    "        folds = defaultdict(lambda: [])\n",
    "        classes, y_indices, class_counts = np.unique(\n",
    "            y, return_inverse=True, return_counts=True)\n",
    "        class_indices = np.split(\n",
    "            np.argsort(y_indices), np.cumsum(class_counts)[:-1])\n",
    "\n",
    "        for i in range(classes.shape[0]):\n",
    "            class_indices[i] = rng.permutation(class_indices[i])\n",
    "            cumsum_counts = [\n",
    "                int(j * (1 / self.n_folds) * class_indices[i].shape[0]) \n",
    "                for j in range(1, self.n_folds)\n",
    "            ]\n",
    "            for fold_num, fold_data_indices in enumerate(\n",
    "                np.split(class_indices[i], cumsum_counts)):\n",
    "                folds[fold_num].extend(fold_data_indices)\n",
    "\n",
    "        folds = {i: rng.permutation(folds[i]) for i in range(self.n_folds)}\n",
    "\n",
    "        for i in range(self.n_folds):\n",
    "            yield (np.delete(X, folds[i]), np.take(X, folds[i]), \n",
    "                   np.delete(y, folds[i]), np.take(y, folds[i]))     \n",
    "    \n",
    "    def plot_folds_stratification(self):\n",
    "        # np.bincount(np.take(y, folds[0])), \n",
    "        # np.bincount(np.take(y, folds[1]))"
   ]
  }
 ],
 "metadata": {
  "kernelspec": {
   "display_name": "p3.11",
   "language": "python",
   "name": "python3"
  },
  "language_info": {
   "codemirror_mode": {
    "name": "ipython",
    "version": 3
   },
   "file_extension": ".py",
   "mimetype": "text/x-python",
   "name": "python",
   "nbconvert_exporter": "python",
   "pygments_lexer": "ipython3",
   "version": "3.11.2"
  },
  "orig_nbformat": 4
 },
 "nbformat": 4,
 "nbformat_minor": 2
}
