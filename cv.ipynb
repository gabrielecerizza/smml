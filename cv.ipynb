{
 "cells": [
  {
   "cell_type": "code",
   "execution_count": 7,
   "metadata": {},
   "outputs": [],
   "source": [
    "import h5py\n",
    "import numpy as np\n",
    "from collections import defaultdict\n",
    "from tqdm.auto import tqdm\n",
    "from itertools import product"
   ]
  },
  {
   "cell_type": "code",
   "execution_count": 2,
   "metadata": {},
   "outputs": [],
   "source": [
    "PATH = '../../datasets/usps/usps.h5'\n",
    "with h5py.File(PATH, 'r') as hf:\n",
    "        train = hf.get('train')\n",
    "        X_tr = train.get('data')[:]\n",
    "        y_tr = train.get('target')[:]\n",
    "        test = hf.get('test')\n",
    "        X_te = test.get('data')[:]\n",
    "        y_te = test.get('target')[:]"
   ]
  },
  {
   "cell_type": "code",
   "execution_count": null,
   "metadata": {},
   "outputs": [],
   "source": []
  },
  {
   "cell_type": "code",
   "execution_count": 5,
   "metadata": {},
   "outputs": [
    {
     "data": {
      "text/plain": [
       "array([1.00000000e-05, 5.99484250e-05, 3.59381366e-04, 2.15443469e-03,\n",
       "       1.29154967e-02, 7.74263683e-02, 4.64158883e-01, 2.78255940e+00,\n",
       "       1.66810054e+01, 1.00000000e+02])"
      ]
     },
     "execution_count": 5,
     "metadata": {},
     "output_type": "execute_result"
    }
   ],
   "source": [
    "np.logspace(-5, 2, 10)"
   ]
  },
  {
   "cell_type": "code",
   "execution_count": 6,
   "metadata": {},
   "outputs": [],
   "source": [
    "param_grid = {\n",
    "    'T': [np.linspace(200, 50000, 10)],\n",
    "    'l': [np.logspace(-5, 2, 10)]\n",
    "}"
   ]
  },
  {
   "cell_type": "code",
   "execution_count": 37,
   "metadata": {},
   "outputs": [
    {
     "data": {
      "text/plain": [
       "[[array([  200.        ,  5733.33333333, 11266.66666667, 16800.        ,\n",
       "         22333.33333333, 27866.66666667, 33400.        , 38933.33333333,\n",
       "         44466.66666667, 50000.        ])],\n",
       " [array([1.00000000e-05, 5.99484250e-05, 3.59381366e-04, 2.15443469e-03,\n",
       "         1.29154967e-02, 7.74263683e-02, 4.64158883e-01, 2.78255940e+00,\n",
       "         1.66810054e+01, 1.00000000e+02])]]"
      ]
     },
     "execution_count": 37,
     "metadata": {},
     "output_type": "execute_result"
    }
   ],
   "source": [
    "values = param_grid.values()\n",
    "list(values)"
   ]
  },
  {
   "cell_type": "code",
   "execution_count": null,
   "metadata": {},
   "outputs": [],
   "source": []
  },
  {
   "cell_type": "code",
   "execution_count": 36,
   "metadata": {},
   "outputs": [
    {
     "data": {
      "text/plain": [
       "[{'T': array([  200.        ,  5733.33333333, 11266.66666667, 16800.        ,\n",
       "         22333.33333333, 27866.66666667, 33400.        , 38933.33333333,\n",
       "         44466.66666667, 50000.        ]),\n",
       "  'l': array([1.00000000e-05, 5.99484250e-05, 3.59381366e-04, 2.15443469e-03,\n",
       "         1.29154967e-02, 7.74263683e-02, 4.64158883e-01, 2.78255940e+00,\n",
       "         1.66810054e+01, 1.00000000e+02])}]"
      ]
     },
     "execution_count": 36,
     "metadata": {},
     "output_type": "execute_result"
    }
   ],
   "source": [
    "items = sorted(param_grid.items())\n",
    "keys, values = zip(*items)\n",
    "[dict(zip(keys, v)) for v in product(*values)]"
   ]
  },
  {
   "cell_type": "code",
   "execution_count": 29,
   "metadata": {},
   "outputs": [
    {
     "data": {
      "text/plain": [
       "[(array([  200.        ,  5733.33333333, 11266.66666667, 16800.        ,\n",
       "         22333.33333333, 27866.66666667, 33400.        , 38933.33333333,\n",
       "         44466.66666667, 50000.        ]),\n",
       "  array([1.00000000e-05, 5.99484250e-05, 3.59381366e-04, 2.15443469e-03,\n",
       "         1.29154967e-02, 7.74263683e-02, 4.64158883e-01, 2.78255940e+00,\n",
       "         1.66810054e+01, 1.00000000e+02]))]"
      ]
     },
     "execution_count": 29,
     "metadata": {},
     "output_type": "execute_result"
    }
   ],
   "source": [
    "list(product(list(values)))"
   ]
  },
  {
   "cell_type": "code",
   "execution_count": 13,
   "metadata": {},
   "outputs": [
    {
     "data": {
      "text/plain": [
       "[('T',), ('l',)]"
      ]
     },
     "execution_count": 13,
     "metadata": {},
     "output_type": "execute_result"
    }
   ],
   "source": [
    "list(product(param_grid))"
   ]
  },
  {
   "cell_type": "code",
   "execution_count": 65,
   "metadata": {},
   "outputs": [],
   "source": [
    "d = {\n",
    "    'a': 1,\n",
    "    'b': 2\n",
    "}"
   ]
  },
  {
   "cell_type": "code",
   "execution_count": 66,
   "metadata": {},
   "outputs": [
    {
     "data": {
      "text/plain": [
       "(('a', 1), ('b', 2))"
      ]
     },
     "execution_count": 66,
     "metadata": {},
     "output_type": "execute_result"
    }
   ],
   "source": [
    "tuple(d.items())"
   ]
  },
  {
   "cell_type": "code",
   "execution_count": 61,
   "metadata": {},
   "outputs": [
    {
     "data": {
      "text/plain": [
       "[{'a': 1, 'b': 4},\n",
       " {'a': 1, 'b': 5},\n",
       " {'a': 1, 'b': 6},\n",
       " {'a': 2, 'b': 4},\n",
       " {'a': 2, 'b': 5},\n",
       " {'a': 2, 'b': 6},\n",
       " {'a': 3, 'b': 4},\n",
       " {'a': 3, 'b': 5},\n",
       " {'a': 3, 'b': 6}]"
      ]
     },
     "execution_count": 61,
     "metadata": {},
     "output_type": "execute_result"
    }
   ],
   "source": []
  },
  {
   "cell_type": "code",
   "execution_count": 52,
   "metadata": {},
   "outputs": [
    {
     "data": {
      "text/plain": [
       "[('a', [1, 2, 3]), ('b', [4, 5, 6])]"
      ]
     },
     "execution_count": 52,
     "metadata": {},
     "output_type": "execute_result"
    }
   ],
   "source": [
    "items = d.items()\n",
    "list(items)"
   ]
  },
  {
   "cell_type": "code",
   "execution_count": 54,
   "metadata": {},
   "outputs": [
    {
     "data": {
      "text/plain": [
       "[('a', 'b'), ([1, 2, 3], [4, 5, 6])]"
      ]
     },
     "execution_count": 54,
     "metadata": {},
     "output_type": "execute_result"
    }
   ],
   "source": [
    "list(zip(*items))"
   ]
  },
  {
   "cell_type": "code",
   "execution_count": 50,
   "metadata": {},
   "outputs": [
    {
     "data": {
      "text/plain": [
       "[('b', 4), ('b', 5), ('b', 6)]"
      ]
     },
     "execution_count": 50,
     "metadata": {},
     "output_type": "execute_result"
    }
   ],
   "source": [
    "list(product(*values))"
   ]
  }
 ],
 "metadata": {
  "kernelspec": {
   "display_name": "p3.11",
   "language": "python",
   "name": "python3"
  },
  "language_info": {
   "codemirror_mode": {
    "name": "ipython",
    "version": 3
   },
   "file_extension": ".py",
   "mimetype": "text/x-python",
   "name": "python",
   "nbconvert_exporter": "python",
   "pygments_lexer": "ipython3",
   "version": "3.11.2"
  },
  "orig_nbformat": 4
 },
 "nbformat": 4,
 "nbformat_minor": 2
}
