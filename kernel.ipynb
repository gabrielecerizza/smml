{
 "cells": [
  {
   "attachments": {},
   "cell_type": "markdown",
   "metadata": {},
   "source": [
    "# Step-by-step explanation of kernel computation"
   ]
  },
  {
   "cell_type": "code",
   "execution_count": 6,
   "metadata": {},
   "outputs": [
    {
     "data": {
      "text/plain": [
       "array([[0.2182524 , 0.15390302],\n",
       "       [0.90061862, 0.3717326 ],\n",
       "       [0.66469078, 0.80842845]])"
      ]
     },
     "execution_count": 6,
     "metadata": {},
     "output_type": "execute_result"
    }
   ],
   "source": [
    "import numpy as np\n",
    "X = np.random.rand(3,2)\n",
    "X"
   ]
  },
  {
   "attachments": {},
   "cell_type": "markdown",
   "metadata": {},
   "source": [
    "We have a 3x2 matrix X and we want to compute the differences between each row of X and all the other rows of X. So we want to obtain a 3x3x2 tensor T in which T[i] is the matrix X[i] - X. Notice that X[i] is a vector (1x2), whereas X is a matrix (3x2). Numpy handles the difference in shapes by broadcasting X[i] to a 3x2 matrix in which each row is a copy of X[i]. Therefore, T[1] would be:"
   ]
  },
  {
   "cell_type": "code",
   "execution_count": 16,
   "metadata": {},
   "outputs": [
    {
     "data": {
      "text/plain": [
       "array([[ 0.68236623,  0.21782958],\n",
       "       [ 0.        ,  0.        ],\n",
       "       [ 0.23592784, -0.43669585]])"
      ]
     },
     "execution_count": 16,
     "metadata": {},
     "output_type": "execute_result"
    }
   ],
   "source": [
    "X[1] - X"
   ]
  },
  {
   "attachments": {},
   "cell_type": "markdown",
   "metadata": {},
   "source": [
    "To perform this operation, we first transform X into a 3x1x2 tensor N by adding a new axis:"
   ]
  },
  {
   "cell_type": "code",
   "execution_count": 14,
   "metadata": {},
   "outputs": [
    {
     "name": "stdout",
     "output_type": "stream",
     "text": [
      "(3, 1, 2)\n"
     ]
    },
    {
     "data": {
      "text/plain": [
       "array([[[0.2182524 , 0.15390302]],\n",
       "\n",
       "       [[0.90061862, 0.3717326 ]],\n",
       "\n",
       "       [[0.66469078, 0.80842845]]])"
      ]
     },
     "execution_count": 14,
     "metadata": {},
     "output_type": "execute_result"
    }
   ],
   "source": [
    "N = X[:,np.newaxis,:]\n",
    "print(N.shape)\n",
    "N"
   ]
  },
  {
   "attachments": {},
   "cell_type": "markdown",
   "metadata": {},
   "source": [
    "Now we exploit numpy broadcasting to compute N - X, obtaining the 3x3x2 tensor T we were looking for. N is a 3x1x2 tensor and X is a 3x2 matrix. To perform this operation, both N and X are broadcasted into a 3x3x2 tensor."
   ]
  },
  {
   "cell_type": "code",
   "execution_count": 18,
   "metadata": {},
   "outputs": [
    {
     "data": {
      "text/plain": [
       "array([[[ 0.        ,  0.        ],\n",
       "        [-0.68236623, -0.21782958],\n",
       "        [-0.44643838, -0.65452543]],\n",
       "\n",
       "       [[ 0.68236623,  0.21782958],\n",
       "        [ 0.        ,  0.        ],\n",
       "        [ 0.23592784, -0.43669585]],\n",
       "\n",
       "       [[ 0.44643838,  0.65452543],\n",
       "        [-0.23592784,  0.43669585],\n",
       "        [ 0.        ,  0.        ]]])"
      ]
     },
     "execution_count": 18,
     "metadata": {},
     "output_type": "execute_result"
    }
   ],
   "source": [
    "np.broadcast_to(N, (3,3,2)) - np.broadcast_to(X, (3,3,2))"
   ]
  },
  {
   "cell_type": "code",
   "execution_count": 19,
   "metadata": {},
   "outputs": [
    {
     "data": {
      "text/plain": [
       "array([[[ 0.        ,  0.        ],\n",
       "        [-0.68236623, -0.21782958],\n",
       "        [-0.44643838, -0.65452543]],\n",
       "\n",
       "       [[ 0.68236623,  0.21782958],\n",
       "        [ 0.        ,  0.        ],\n",
       "        [ 0.23592784, -0.43669585]],\n",
       "\n",
       "       [[ 0.44643838,  0.65452543],\n",
       "        [-0.23592784,  0.43669585],\n",
       "        [ 0.        ,  0.        ]]])"
      ]
     },
     "execution_count": 19,
     "metadata": {},
     "output_type": "execute_result"
    }
   ],
   "source": [
    "T = N - X\n",
    "T"
   ]
  },
  {
   "cell_type": "code",
   "execution_count": null,
   "metadata": {},
   "outputs": [],
   "source": []
  },
  {
   "cell_type": "code",
   "execution_count": 27,
   "metadata": {},
   "outputs": [],
   "source": [
    "X = np.random.rand(1000,100)"
   ]
  },
  {
   "cell_type": "code",
   "execution_count": 28,
   "metadata": {},
   "outputs": [
    {
     "data": {
      "text/plain": [
       "array([[1.00000000e+00, 5.32465931e-16, 3.06394189e-14, ...,\n",
       "        1.33469647e-14, 5.94439022e-16, 9.27192292e-17],\n",
       "       [5.32465931e-16, 1.00000000e+00, 1.61049937e-16, ...,\n",
       "        4.83467250e-15, 4.18054463e-11, 1.05222056e-14],\n",
       "       [3.06394189e-14, 1.61049937e-16, 1.00000000e+00, ...,\n",
       "        1.95036905e-14, 6.57084845e-14, 2.70585445e-15],\n",
       "       ...,\n",
       "       [1.33469647e-14, 4.83467250e-15, 1.95036905e-14, ...,\n",
       "        1.00000000e+00, 1.02042856e-13, 5.66330488e-17],\n",
       "       [5.94439022e-16, 4.18054463e-11, 6.57084845e-14, ...,\n",
       "        1.02042856e-13, 1.00000000e+00, 8.08562214e-11],\n",
       "       [9.27192292e-17, 1.05222056e-14, 2.70585445e-15, ...,\n",
       "        5.66330488e-17, 8.08562214e-11, 1.00000000e+00]])"
      ]
     },
     "execution_count": 28,
     "metadata": {},
     "output_type": "execute_result"
    }
   ],
   "source": [
    "from smml.kernel import GaussianKernel\n",
    "res1 = np.zeros((X.shape[0],X.shape[0]))\n",
    "K = GaussianKernel()\n",
    "\n",
    "for i in range(0,X.shape[0]):\n",
    "    for j in range(0,X.shape[0]):\n",
    "        res1[i,j] = K(X[i], X[j])\n",
    "\n",
    "res1"
   ]
  },
  {
   "cell_type": "code",
   "execution_count": 30,
   "metadata": {},
   "outputs": [
    {
     "data": {
      "text/plain": [
       "array([[1.00000000e+00, 5.32465931e-16, 3.06394189e-14, ...,\n",
       "        1.33469647e-14, 5.94439022e-16, 9.27192292e-17],\n",
       "       [5.32465931e-16, 1.00000000e+00, 1.61049937e-16, ...,\n",
       "        4.83467250e-15, 4.18054463e-11, 1.05222056e-14],\n",
       "       [3.06394189e-14, 1.61049937e-16, 1.00000000e+00, ...,\n",
       "        1.95036905e-14, 6.57084845e-14, 2.70585445e-15],\n",
       "       ...,\n",
       "       [1.33469647e-14, 4.83467250e-15, 1.95036905e-14, ...,\n",
       "        1.00000000e+00, 1.02042856e-13, 5.66330488e-17],\n",
       "       [5.94439022e-16, 4.18054463e-11, 6.57084845e-14, ...,\n",
       "        1.02042856e-13, 1.00000000e+00, 8.08562214e-11],\n",
       "       [9.27192292e-17, 1.05222056e-14, 2.70585445e-15, ...,\n",
       "        5.66330488e-17, 8.08562214e-11, 1.00000000e+00]])"
      ]
     },
     "execution_count": 30,
     "metadata": {},
     "output_type": "execute_result"
    }
   ],
   "source": [
    "np.exp(-(np.linalg.norm(X[:,np.newaxis,:] - X, axis=-1) ** 2) / (2 * 0.25))"
   ]
  },
  {
   "cell_type": "code",
   "execution_count": null,
   "metadata": {},
   "outputs": [],
   "source": []
  }
 ],
 "metadata": {
  "kernelspec": {
   "display_name": "tf_p3.9",
   "language": "python",
   "name": "python3"
  },
  "language_info": {
   "codemirror_mode": {
    "name": "ipython",
    "version": 3
   },
   "file_extension": ".py",
   "mimetype": "text/x-python",
   "name": "python",
   "nbconvert_exporter": "python",
   "pygments_lexer": "ipython3",
   "version": "3.9.5"
  },
  "orig_nbformat": 4
 },
 "nbformat": 4,
 "nbformat_minor": 2
}
