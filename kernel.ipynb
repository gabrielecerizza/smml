{
 "cells": [
  {
   "attachments": {},
   "cell_type": "markdown",
   "metadata": {},
   "source": [
    "# Step-by-step explanation of kernel computation"
   ]
  },
  {
   "cell_type": "code",
   "execution_count": 1,
   "metadata": {},
   "outputs": [
    {
     "data": {
      "text/plain": [
       "array([[0.33689323, 0.26565359],\n",
       "       [0.22579323, 0.91294533],\n",
       "       [0.05396156, 0.10009886]])"
      ]
     },
     "execution_count": 1,
     "metadata": {},
     "output_type": "execute_result"
    }
   ],
   "source": [
    "import numpy as np\n",
    "X = np.random.rand(3,2)\n",
    "X"
   ]
  },
  {
   "attachments": {},
   "cell_type": "markdown",
   "metadata": {},
   "source": [
    "We have a 3x2 matrix X and we want to compute the differences between each row of X and all the other rows of X. So we want to obtain a 3x3x2 tensor T in which T[i] is the matrix X[i] - X. Notice that X[i] is a vector (1x2), whereas X is a matrix (3x2). Numpy handles the difference in shapes by broadcasting X[i] to a 3x2 matrix in which each row is a copy of X[i]. Therefore, T[1] would be:"
   ]
  },
  {
   "cell_type": "code",
   "execution_count": 16,
   "metadata": {},
   "outputs": [
    {
     "data": {
      "text/plain": [
       "array([[ 0.68236623,  0.21782958],\n",
       "       [ 0.        ,  0.        ],\n",
       "       [ 0.23592784, -0.43669585]])"
      ]
     },
     "execution_count": 16,
     "metadata": {},
     "output_type": "execute_result"
    }
   ],
   "source": [
    "X[1] - X"
   ]
  },
  {
   "attachments": {},
   "cell_type": "markdown",
   "metadata": {},
   "source": [
    "To perform this operation, we first transform X into a 3x1x2 tensor N by adding a new axis:"
   ]
  },
  {
   "cell_type": "code",
   "execution_count": 14,
   "metadata": {},
   "outputs": [
    {
     "name": "stdout",
     "output_type": "stream",
     "text": [
      "(3, 1, 2)\n"
     ]
    },
    {
     "data": {
      "text/plain": [
       "array([[[0.2182524 , 0.15390302]],\n",
       "\n",
       "       [[0.90061862, 0.3717326 ]],\n",
       "\n",
       "       [[0.66469078, 0.80842845]]])"
      ]
     },
     "execution_count": 14,
     "metadata": {},
     "output_type": "execute_result"
    }
   ],
   "source": [
    "N = X[:,np.newaxis,:]\n",
    "print(N.shape)\n",
    "N"
   ]
  },
  {
   "attachments": {},
   "cell_type": "markdown",
   "metadata": {},
   "source": [
    "Now we exploit numpy broadcasting to compute N - X, obtaining the 3x3x2 tensor T we were looking for. N is a 3x1x2 tensor and X is a 3x2 matrix. To perform this operation, both N and X are broadcasted into a 3x3x2 tensor."
   ]
  },
  {
   "cell_type": "code",
   "execution_count": 18,
   "metadata": {},
   "outputs": [
    {
     "data": {
      "text/plain": [
       "array([[[ 0.        ,  0.        ],\n",
       "        [-0.68236623, -0.21782958],\n",
       "        [-0.44643838, -0.65452543]],\n",
       "\n",
       "       [[ 0.68236623,  0.21782958],\n",
       "        [ 0.        ,  0.        ],\n",
       "        [ 0.23592784, -0.43669585]],\n",
       "\n",
       "       [[ 0.44643838,  0.65452543],\n",
       "        [-0.23592784,  0.43669585],\n",
       "        [ 0.        ,  0.        ]]])"
      ]
     },
     "execution_count": 18,
     "metadata": {},
     "output_type": "execute_result"
    }
   ],
   "source": [
    "np.broadcast_to(N, (3,3,2)) - np.broadcast_to(X, (3,3,2))"
   ]
  },
  {
   "cell_type": "code",
   "execution_count": 19,
   "metadata": {},
   "outputs": [
    {
     "data": {
      "text/plain": [
       "array([[[ 0.        ,  0.        ],\n",
       "        [-0.68236623, -0.21782958],\n",
       "        [-0.44643838, -0.65452543]],\n",
       "\n",
       "       [[ 0.68236623,  0.21782958],\n",
       "        [ 0.        ,  0.        ],\n",
       "        [ 0.23592784, -0.43669585]],\n",
       "\n",
       "       [[ 0.44643838,  0.65452543],\n",
       "        [-0.23592784,  0.43669585],\n",
       "        [ 0.        ,  0.        ]]])"
      ]
     },
     "execution_count": 19,
     "metadata": {},
     "output_type": "execute_result"
    }
   ],
   "source": [
    "T = N - X\n",
    "T"
   ]
  },
  {
   "cell_type": "code",
   "execution_count": null,
   "metadata": {},
   "outputs": [],
   "source": []
  },
  {
   "cell_type": "code",
   "execution_count": null,
   "metadata": {},
   "outputs": [],
   "source": []
  },
  {
   "attachments": {},
   "cell_type": "markdown",
   "metadata": {},
   "source": [
    "# Sparse matrix"
   ]
  },
  {
   "cell_type": "code",
   "execution_count": 36,
   "metadata": {},
   "outputs": [],
   "source": [
    "import numpy as np\n",
    "from numpy.random import default_rng"
   ]
  },
  {
   "attachments": {},
   "cell_type": "markdown",
   "metadata": {},
   "source": [
    "Test"
   ]
  },
  {
   "cell_type": "code",
   "execution_count": 55,
   "metadata": {},
   "outputs": [
    {
     "data": {
      "text/plain": [
       "((8000, 700), (8000,), (8000, 8000))"
      ]
     },
     "execution_count": 55,
     "metadata": {},
     "output_type": "execute_result"
    }
   ],
   "source": [
    "X = np.random.rand(8000,700)\n",
    "Y = np.random.randint(2, size=8000)\n",
    "K = np.random.rand(8000,8000)\n",
    "X.shape, Y.shape, K.shape"
   ]
  },
  {
   "attachments": {},
   "cell_type": "markdown",
   "metadata": {},
   "source": [
    "Classic"
   ]
  },
  {
   "cell_type": "code",
   "execution_count": 57,
   "metadata": {},
   "outputs": [],
   "source": [
    "alphas = np.zeros(X.shape[0])\n",
    "rng = default_rng(42)\n",
    "l = 0.5\n",
    "\n",
    "for t in range(1,10000):\n",
    "    i = rng.integers(X.shape[0])\n",
    "    s = np.sum(\n",
    "        [alphas[j] * Y[j] * K[i,j] \n",
    "            for j in range(X.shape[0])])\n",
    "    if (Y[i] / (l * t)) * s < 1:\n",
    "        alphas[i] += 1"
   ]
  },
  {
   "attachments": {},
   "cell_type": "markdown",
   "metadata": {},
   "source": [
    "With matrices"
   ]
  },
  {
   "cell_type": "code",
   "execution_count": 58,
   "metadata": {},
   "outputs": [],
   "source": [
    "alphas2 = np.zeros(X.shape[0])\n",
    "rng = default_rng(42)\n",
    "l = 0.5\n",
    "\n",
    "for t in range(1,10000):\n",
    "    i = rng.integers(X.shape[0])\n",
    "    s = alphas2.dot((Y * K[i]))\n",
    "    if (Y[i] / (l * t)) * s < 1:\n",
    "        alphas2[i] += 1"
   ]
  },
  {
   "cell_type": "code",
   "execution_count": 59,
   "metadata": {},
   "outputs": [
    {
     "data": {
      "text/plain": [
       "True"
      ]
     },
     "execution_count": 59,
     "metadata": {},
     "output_type": "execute_result"
    }
   ],
   "source": [
    "np.all(alphas == alphas2)"
   ]
  }
 ],
 "metadata": {
  "kernelspec": {
   "display_name": "tf_p3.9",
   "language": "python",
   "name": "python3"
  },
  "language_info": {
   "codemirror_mode": {
    "name": "ipython",
    "version": 3
   },
   "file_extension": ".py",
   "mimetype": "text/x-python",
   "name": "python",
   "nbconvert_exporter": "python",
   "pygments_lexer": "ipython3",
   "version": "3.11.2"
  },
  "orig_nbformat": 4
 },
 "nbformat": 4,
 "nbformat_minor": 2
}
