{
 "cells": [
  {
   "cell_type": "code",
   "execution_count": null,
   "metadata": {},
   "outputs": [],
   "source": [
    "import h5py\n",
    "import matplotlib_inline\n",
    "import numpy as np\n",
    "import time\n",
    "\n",
    "from tqdm import tqdm\n",
    "\n",
    "from smml.kernels import GaussianKernel, PolynomialKernel\n",
    "from smml.models import MulticlassPegasos\n",
    "from smml.cross_validation import (\n",
    "    KFoldCrossValidation, ParamGridCrossValidation\n",
    ")\n",
    "from smml.utils import (\n",
    "    plot_class_counts, plot_cv_runtime, \n",
    "    plot_digits, plot_heatmap,\n",
    "    plot_runtime_comparison, plot_tsne_data\n",
    ")\n",
    "\n",
    "matplotlib_inline.backend_inline.set_matplotlib_formats('retina')"
   ]
  },
  {
   "cell_type": "code",
   "execution_count": null,
   "metadata": {},
   "outputs": [],
   "source": [
    "PATH = '../../datasets/usps/usps.h5'\n",
    "with h5py.File(PATH, 'r') as hf:\n",
    "        train = hf.get('train')\n",
    "        X_tr = train.get('data')[:]\n",
    "        y_tr = train.get('target')[:]\n",
    "        test = hf.get('test')\n",
    "        X_te = test.get('data')[:]\n",
    "        y_te = test.get('target')[:]\n",
    "\n",
    "X = np.concatenate((X_tr, X_te))\n",
    "y = np.concatenate((y_tr, y_te))"
   ]
  },
  {
   "attachments": {},
   "cell_type": "markdown",
   "metadata": {},
   "source": [
    "# Dataset overview"
   ]
  },
  {
   "cell_type": "code",
   "execution_count": null,
   "metadata": {},
   "outputs": [],
   "source": [
    "plot_digits(X, y, 10)"
   ]
  },
  {
   "cell_type": "code",
   "execution_count": null,
   "metadata": {},
   "outputs": [],
   "source": [
    "plot_class_counts(y)"
   ]
  },
  {
   "cell_type": "code",
   "execution_count": null,
   "metadata": {},
   "outputs": [],
   "source": [
    "plot_tsne_data(X, y)"
   ]
  },
  {
   "attachments": {},
   "cell_type": "markdown",
   "metadata": {},
   "source": [
    "# Runtime comparison"
   ]
  },
  {
   "cell_type": "code",
   "execution_count": null,
   "metadata": {},
   "outputs": [],
   "source": [
    "def naive_training(X, y, kernel, T, l=0.1, seed=42):\n",
    "    alphas = np.zeros(X.shape[0])\n",
    "    rng = np.random.default_rng(seed)\n",
    "    for t in range(1, T + 1):\n",
    "        i = rng.integers(X.shape[0])\n",
    "        s = np.sum(\n",
    "            [alphas[j] * y[j] * kernel(X[i], X[j])\n",
    "                for j in range(X.shape[0])])\n",
    "        if (y[i] / (l * t)) * s < 1:\n",
    "            alphas[i] += 1\n",
    "\n",
    "    return alphas\n",
    "\n",
    "def optimized_training(X, y, kernel, T, l=0.1, seed=42):\n",
    "    alphas = np.zeros(X.shape[0])\n",
    "    rng = np.random.default_rng(seed)\n",
    "    K = kernel.compute_kernel_matrix(X, X)\n",
    "\n",
    "    for t in range(1, T + 1):\n",
    "        i = rng.integers(X.shape[0])\n",
    "        s = (alphas * y).dot(K[i])\n",
    "        if (y[i] / (l * t)) * s < 1:\n",
    "            alphas[i] += 1\n",
    "\n",
    "    return alphas"
   ]
  },
  {
   "cell_type": "code",
   "execution_count": null,
   "metadata": {},
   "outputs": [],
   "source": [
    "np.random.seed(10)\n",
    "N = 1000\n",
    "X = np.random.rand(N, 10)\n",
    "y = np.random.randint(2, size=N)\n",
    "kernel = GaussianKernel()\n",
    "Ts = np.linspace(100, 5000, 10, dtype=int)"
   ]
  },
  {
   "cell_type": "code",
   "execution_count": null,
   "metadata": {},
   "outputs": [],
   "source": [
    "times = {\n",
    "    'naive': [],\n",
    "    'optimized': []\n",
    "}\n",
    "\n",
    "for T in tqdm(Ts, leave=False):\n",
    "    start = time.process_time()\n",
    "    res1 = naive_training(X, y, kernel, T)\n",
    "    times['naive'].append(time.process_time() - start)\n",
    "    start = time.process_time()\n",
    "    res2 = optimized_training(X, y, kernel, T)\n",
    "    times['optimized'].append(time.process_time() - start)\n",
    "    assert np.allclose(res1, res2)"
   ]
  },
  {
   "cell_type": "code",
   "execution_count": null,
   "metadata": {},
   "outputs": [],
   "source": [
    "plot_runtime_comparison(Ts, times)"
   ]
  },
  {
   "attachments": {},
   "cell_type": "markdown",
   "metadata": {},
   "source": [
    "# Cross-validation experiments"
   ]
  },
  {
   "cell_type": "code",
   "execution_count": null,
   "metadata": {},
   "outputs": [],
   "source": [
    "cv = KFoldCrossValidation(5)\n",
    "param_grid = {'T': [1000, 5000, 10000, 25000, 50000], \n",
    "              'l': [1e-5, 1e-4, 1e-3, 1e-2, 1e-1, 1, 10]}"
   ]
  },
  {
   "attachments": {},
   "cell_type": "markdown",
   "metadata": {},
   "source": [
    "## Polynomial kernel (degree 2)"
   ]
  },
  {
   "cell_type": "code",
   "execution_count": null,
   "metadata": {},
   "outputs": [],
   "source": [
    "mp = MulticlassPegasos(kernel=PolynomialKernel(n=2))\n",
    "pgcv = ParamGridCrossValidation(mp, param_grid, cv)\n",
    "res = pgcv.fit(X, y)"
   ]
  },
  {
   "cell_type": "code",
   "execution_count": null,
   "metadata": {},
   "outputs": [],
   "source": [
    "with open(r'results/poly_2.txt','w+') as f:\n",
    "    f.write(str(res))"
   ]
  },
  {
   "cell_type": "code",
   "execution_count": null,
   "metadata": {},
   "outputs": [],
   "source": [
    "res = ''\n",
    "with open(r'results/poly_2.txt','r') as f:\n",
    "     for i in f.readlines():\n",
    "         res=i\n",
    "res = eval(res)\n",
    "\n",
    "plot_heatmap(\n",
    "     np.array([val['error'] for val in res.values()]).round(3), \n",
    "     param_grid, r'\\textbf{Polynomial Kernel (degree 2)}', \n",
    "     r'Regularization coefficient ($\\lambda$)', 'Number of rounds (T)',\n",
    "     'Test error (zero-one loss)', 'img/poly_2_error.png')"
   ]
  },
  {
   "attachments": {},
   "cell_type": "markdown",
   "metadata": {},
   "source": [
    "## Polynomial kernel (degree 3)"
   ]
  },
  {
   "cell_type": "code",
   "execution_count": null,
   "metadata": {},
   "outputs": [],
   "source": [
    "mp = MulticlassPegasos(kernel=PolynomialKernel(n=3))\n",
    "pgcv = ParamGridCrossValidation(mp, param_grid, cv)\n",
    "res = pgcv.fit(X, y)"
   ]
  },
  {
   "cell_type": "code",
   "execution_count": null,
   "metadata": {},
   "outputs": [],
   "source": [
    "with open(r'results/poly_3.txt','w+') as f:\n",
    "    f.write(str(res))"
   ]
  },
  {
   "cell_type": "code",
   "execution_count": null,
   "metadata": {},
   "outputs": [],
   "source": [
    "res = ''\n",
    "with open(r'results/poly_3.txt','r') as f:\n",
    "     for i in f.readlines():\n",
    "         res=i\n",
    "res = eval(res)\n",
    "\n",
    "plot_heatmap(\n",
    "     np.array([val['error'] for val in res.values()]).round(3), \n",
    "     param_grid, r'\\textbf{Polynomial Kernel (degree 3)}', \n",
    "     r'Regularization coefficient ($\\lambda$)', 'Number of rounds (T)',\n",
    "     'Test error (zero-one loss)', 'img/poly_3_error.png')"
   ]
  },
  {
   "attachments": {},
   "cell_type": "markdown",
   "metadata": {},
   "source": [
    "## Polynomial kernel (degree 4)"
   ]
  },
  {
   "cell_type": "code",
   "execution_count": null,
   "metadata": {},
   "outputs": [],
   "source": [
    "mp = MulticlassPegasos(kernel=PolynomialKernel(n=4))\n",
    "pgcv = ParamGridCrossValidation(mp, param_grid, cv)\n",
    "res = pgcv.fit(X, y)"
   ]
  },
  {
   "cell_type": "code",
   "execution_count": null,
   "metadata": {},
   "outputs": [],
   "source": [
    "with open(r'results/poly_4.txt','w+') as f:\n",
    "    f.write(str(res))"
   ]
  },
  {
   "cell_type": "code",
   "execution_count": null,
   "metadata": {},
   "outputs": [],
   "source": [
    "res = ''\n",
    "with open(r'results/poly_4.txt','r') as f:\n",
    "     for i in f.readlines():\n",
    "         res=i\n",
    "res = eval(res)\n",
    "\n",
    "plot_heatmap(\n",
    "     np.array([val['error'] for val in res.values()]).round(3), \n",
    "     param_grid, r'\\textbf{Polynomial Kernel (degree 4)}', \n",
    "     r'Regularization coefficient ($\\lambda$)', 'Number of rounds (T)',\n",
    "     'Test error (zero-one loss)', 'img/poly_4_error.png')"
   ]
  },
  {
   "attachments": {},
   "cell_type": "markdown",
   "metadata": {},
   "source": [
    "## Polynomial kernel (degree 7)"
   ]
  },
  {
   "cell_type": "code",
   "execution_count": null,
   "metadata": {},
   "outputs": [],
   "source": [
    "mp = MulticlassPegasos(kernel=PolynomialKernel(n=7))\n",
    "pgcv = ParamGridCrossValidation(mp, param_grid, cv)\n",
    "res = pgcv.fit(X, y)"
   ]
  },
  {
   "cell_type": "code",
   "execution_count": null,
   "metadata": {},
   "outputs": [],
   "source": [
    "with open(r'results/poly_7.txt','w+') as f:\n",
    "    f.write(str(res))"
   ]
  },
  {
   "cell_type": "code",
   "execution_count": null,
   "metadata": {},
   "outputs": [],
   "source": [
    "res = ''\n",
    "with open(r'results/poly_7.txt','r') as f:\n",
    "     for i in f.readlines():\n",
    "         res=i\n",
    "res = eval(res)\n",
    "\n",
    "plot_heatmap(\n",
    "     np.array([val['error'] for val in res.values()]).round(3), \n",
    "     param_grid, r'\\textbf{Polynomial Kernel (degree 7)}', \n",
    "     r'Regularization coefficient ($\\lambda$)', 'Number of rounds (T)',\n",
    "     'Test error (zero-one loss)', 'img/poly_7_error.png')"
   ]
  },
  {
   "attachments": {},
   "cell_type": "markdown",
   "metadata": {},
   "source": [
    "## Gaussian kernel (gamma 0.25)"
   ]
  },
  {
   "cell_type": "code",
   "execution_count": null,
   "metadata": {},
   "outputs": [],
   "source": [
    "mp = MulticlassPegasos(kernel=GaussianKernel(0.25))\n",
    "pgcv = ParamGridCrossValidation(mp, param_grid, cv)\n",
    "res = pgcv.fit(X, y)"
   ]
  },
  {
   "cell_type": "code",
   "execution_count": null,
   "metadata": {},
   "outputs": [],
   "source": [
    "with open(r'results/gaussian_25.txt','w+') as f:\n",
    "    f.write(str(res))"
   ]
  },
  {
   "cell_type": "code",
   "execution_count": null,
   "metadata": {},
   "outputs": [],
   "source": [
    "res = ''\n",
    "with open(r'results/gaussian_25.txt','r') as f:\n",
    "     for i in f.readlines():\n",
    "         res=i\n",
    "res = eval(res)\n",
    "\n",
    "plot_heatmap(\n",
    "     np.array([val['error'] for val in res.values()]).round(3), \n",
    "     param_grid, r'\\textbf{Gaussian Kernel ($\\gamma$ 0.25)}', \n",
    "     r'Regularization coefficient ($\\lambda$)', 'Number of rounds (T)',\n",
    "     'Test error (zero-one loss)', 'img/gaussian_25_error.png')"
   ]
  },
  {
   "attachments": {},
   "cell_type": "markdown",
   "metadata": {},
   "source": [
    "## Gaussian Kernel (gamma 0.75)"
   ]
  },
  {
   "cell_type": "code",
   "execution_count": null,
   "metadata": {},
   "outputs": [],
   "source": [
    "mp = MulticlassPegasos(kernel=GaussianKernel(0.75))\n",
    "pgcv = ParamGridCrossValidation(mp, param_grid, cv)\n",
    "res = pgcv.fit(X, y)"
   ]
  },
  {
   "cell_type": "code",
   "execution_count": null,
   "metadata": {},
   "outputs": [],
   "source": [
    "with open(r'results/gaussian_75.txt','w+') as f:\n",
    "    f.write(str(res))"
   ]
  },
  {
   "cell_type": "code",
   "execution_count": null,
   "metadata": {},
   "outputs": [],
   "source": [
    "res = ''\n",
    "with open(r'results/gaussian_75.txt','r') as f:\n",
    "     for i in f.readlines():\n",
    "         res=i\n",
    "res = eval(res)\n",
    "\n",
    "plot_heatmap(\n",
    "     np.array([val['error'] for val in res.values()]).round(3), \n",
    "     param_grid, r'\\textbf{Gaussian Kernel ($\\gamma$ 0.75)}', \n",
    "     r'Regularization coefficient ($\\lambda$)', 'Number of rounds (T)',\n",
    "     'Test error (zero-one loss)', 'img/gaussian_75_error.png')"
   ]
  },
  {
   "attachments": {},
   "cell_type": "markdown",
   "metadata": {},
   "source": [
    "## Gaussian Kernel (gamma 2)"
   ]
  },
  {
   "cell_type": "code",
   "execution_count": null,
   "metadata": {},
   "outputs": [],
   "source": [
    "mp = MulticlassPegasos(kernel=GaussianKernel(2))\n",
    "pgcv = ParamGridCrossValidation(mp, param_grid, cv)\n",
    "res = pgcv.fit(X, y)"
   ]
  },
  {
   "cell_type": "code",
   "execution_count": null,
   "metadata": {},
   "outputs": [],
   "source": [
    "with open(r'results/gaussian_2.txt','w+') as f:\n",
    "    f.write(str(res))"
   ]
  },
  {
   "cell_type": "code",
   "execution_count": null,
   "metadata": {},
   "outputs": [],
   "source": [
    "res = ''\n",
    "with open(r'results/gaussian_2.txt','r') as f:\n",
    "     for i in f.readlines():\n",
    "         res=i\n",
    "res = eval(res)\n",
    "\n",
    "plot_heatmap(\n",
    "     np.array([val['error'] for val in res.values()]).round(3), \n",
    "     param_grid, r'\\textbf{Gaussian Kernel ($\\gamma$ 2)}', \n",
    "     r'Regularization coefficient ($\\lambda$)', 'Number of rounds (T)',\n",
    "     'Test error (zero-one loss)', 'img/gaussian_2_error.png')"
   ]
  },
  {
   "attachments": {},
   "cell_type": "markdown",
   "metadata": {},
   "source": [
    "## Average cross-validation runtime"
   ]
  },
  {
   "cell_type": "code",
   "execution_count": null,
   "metadata": {},
   "outputs": [],
   "source": [
    "files = ['results/poly_2.txt', 'results/poly_3.txt', \n",
    "         'results/poly_4.txt', 'results/poly_7.txt', \n",
    "         'results/gaussian_25.txt', 'results/gaussian_75.txt', \n",
    "         'results/gaussian_2.txt']\n",
    "labels = ['polynomial (degree 2)', 'polynomial (degree 3)', \n",
    "          'polynomial (degree 4)', 'polynomial (degree 7)',\n",
    "          'gaussian (gamma 0.25)', 'gaussian (gamma 0.75)',\n",
    "          'gaussian (gamma 2)']\n",
    "\n",
    "plot_cv_runtime(files, labels, param_grid)"
   ]
  }
 ],
 "metadata": {
  "kernelspec": {
   "display_name": "tf_p3.9",
   "language": "python",
   "name": "python3"
  },
  "language_info": {
   "codemirror_mode": {
    "name": "ipython",
    "version": 3
   },
   "file_extension": ".py",
   "mimetype": "text/x-python",
   "name": "python",
   "nbconvert_exporter": "python",
   "pygments_lexer": "ipython3",
   "version": "3.11.2"
  },
  "orig_nbformat": 4
 },
 "nbformat": 4,
 "nbformat_minor": 2
}
