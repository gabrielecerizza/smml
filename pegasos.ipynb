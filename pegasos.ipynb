{
 "cells": [
  {
   "cell_type": "code",
   "execution_count": 109,
   "metadata": {},
   "outputs": [],
   "source": [
    "import h5py\n",
    "import numpy as np\n",
    "from numpy.random import default_rng\n",
    "from sklearn.metrics import accuracy_score\n",
    "from tqdm.auto import tqdm\n",
    "\n",
    "from smml.kernel import GaussianKernel"
   ]
  },
  {
   "cell_type": "code",
   "execution_count": 90,
   "metadata": {},
   "outputs": [],
   "source": [
    "PATH = '../../datasets/usps/usps.h5'\n",
    "with h5py.File(PATH, 'r') as hf:\n",
    "        train = hf.get('train')\n",
    "        X_tr = train.get('data')[:]\n",
    "        y_tr = train.get('target')[:]\n",
    "        test = hf.get('test')\n",
    "        X_te = test.get('data')[:]\n",
    "        y_te = test.get('target')[:]"
   ]
  },
  {
   "cell_type": "code",
   "execution_count": 104,
   "metadata": {},
   "outputs": [],
   "source": [
    "class Pegasos:\n",
    "    def __init__(self, l=0.5, T=1000, K=GaussianKernel(), seed=42):\n",
    "        self.l = l\n",
    "        self.T = T\n",
    "        self.K = K\n",
    "        self.seed = seed\n",
    "\n",
    "    def fit(self, X : np.ndarray, y : np.ndarray):\n",
    "        if (self.l <= 0): \n",
    "            raise ValueError('Parameter lambda is not strictly positive')\n",
    "\n",
    "        self.X_train = X\n",
    "        self.y_train = y\n",
    "        self.alphas = np.zeros(X.shape[0])\n",
    "        rng = default_rng(self.seed)\n",
    "\n",
    "        for t in tqdm(range(1, self.T + 1)):\n",
    "            i = rng.integers(X.shape[0])\n",
    "            s = np.sum(\n",
    "                [self.alphas[j] * y[j] * self.K(X[j], X[i]) \n",
    "                 for j in range(X.shape[0])])\n",
    "            if (y[i] / (self.l * t)) * s < 1:\n",
    "                self.alphas[t] += 1\n",
    "\n",
    "    def predict(self, X):\n",
    "        #TODO: check if we can remove eta, sign should not change\n",
    "\n",
    "        return np.array(\n",
    "            [np.sign((1 / (self.l * self.T)) \n",
    "                     * np.sum([self.alphas[j] * self.y_train[j] * self.K(self.X_train[j], x) \n",
    "                               for j in range(self.X_train.shape[0])])) for x in X])"
   ]
  },
  {
   "cell_type": "code",
   "execution_count": null,
   "metadata": {},
   "outputs": [],
   "source": [
    "class MulticlassPegasos:\n",
    "    pass\n",
    "    # should train multiple pegasos etc"
   ]
  },
  {
   "cell_type": "code",
   "execution_count": 91,
   "metadata": {},
   "outputs": [
    {
     "data": {
      "text/plain": [
       "array([6, 5, 4, ..., 3, 0, 1])"
      ]
     },
     "execution_count": 91,
     "metadata": {},
     "output_type": "execute_result"
    }
   ],
   "source": [
    "y_tr"
   ]
  },
  {
   "cell_type": "code",
   "execution_count": 97,
   "metadata": {},
   "outputs": [],
   "source": [
    "y_tr_0 = np.where(y_tr == 0, 1, -1)"
   ]
  },
  {
   "cell_type": "code",
   "execution_count": 105,
   "metadata": {},
   "outputs": [],
   "source": [
    "pegasos = Pegasos()"
   ]
  },
  {
   "cell_type": "code",
   "execution_count": 106,
   "metadata": {},
   "outputs": [
    {
     "name": "stderr",
     "output_type": "stream",
     "text": [
      "100%|██████████| 1000/1000 [01:17<00:00, 12.86it/s]\n"
     ]
    }
   ],
   "source": [
    "pegasos.fit(X_tr, y_tr_0)"
   ]
  },
  {
   "cell_type": "code",
   "execution_count": 107,
   "metadata": {},
   "outputs": [],
   "source": [
    "y_pred = pegasos.predict(X_te)"
   ]
  },
  {
   "cell_type": "code",
   "execution_count": 108,
   "metadata": {},
   "outputs": [
    {
     "data": {
      "text/plain": [
       "array([-1., -1., -1., ..., -1.,  1., -1.])"
      ]
     },
     "execution_count": 108,
     "metadata": {},
     "output_type": "execute_result"
    }
   ],
   "source": [
    "y_pred"
   ]
  },
  {
   "cell_type": "code",
   "execution_count": 110,
   "metadata": {},
   "outputs": [],
   "source": [
    "y_te_0 = np.where(y_te == 0, 1, -1)"
   ]
  },
  {
   "cell_type": "code",
   "execution_count": 111,
   "metadata": {},
   "outputs": [
    {
     "data": {
      "text/plain": [
       "0.9825610363726955"
      ]
     },
     "execution_count": 111,
     "metadata": {},
     "output_type": "execute_result"
    }
   ],
   "source": [
    "accuracy_score(y_pred, y_te_0)"
   ]
  }
 ],
 "metadata": {
  "kernelspec": {
   "display_name": "tf_p3.9",
   "language": "python",
   "name": "python3"
  },
  "language_info": {
   "codemirror_mode": {
    "name": "ipython",
    "version": 3
   },
   "file_extension": ".py",
   "mimetype": "text/x-python",
   "name": "python",
   "nbconvert_exporter": "python",
   "pygments_lexer": "ipython3",
   "version": "3.9.5"
  },
  "orig_nbformat": 4
 },
 "nbformat": 4,
 "nbformat_minor": 2
}
