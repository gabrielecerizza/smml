{
 "cells": [
  {
   "cell_type": "code",
   "execution_count": 1,
   "metadata": {},
   "outputs": [],
   "source": [
    "import h5py\n",
    "import numpy as np\n",
    "from numpy.random import default_rng\n",
    "from sklearn.metrics import accuracy_score\n",
    "from tqdm.auto import tqdm\n",
    "\n",
    "from smml.kernel import GaussianKernel"
   ]
  },
  {
   "cell_type": "code",
   "execution_count": 42,
   "metadata": {},
   "outputs": [
    {
     "data": {
      "text/plain": [
       "(array([[0.70862575, 0.66907621, 0.5672052 , 0.11716727, 0.83550667],\n",
       "        [0.08118818, 0.18005281, 0.08683709, 0.80563281, 0.78716352],\n",
       "        [0.51540697, 0.22313665, 0.41122192, 0.07790869, 0.5698869 ],\n",
       "        [0.61933605, 0.25279966, 0.71515426, 0.86518066, 0.54043726]]),\n",
       " (4, 5))"
      ]
     },
     "execution_count": 42,
     "metadata": {},
     "output_type": "execute_result"
    }
   ],
   "source": [
    "K = GaussianKernel()\n",
    "X = np.random.rand(4,5)\n",
    "X, X.shape"
   ]
  },
  {
   "cell_type": "code",
   "execution_count": 63,
   "metadata": {},
   "outputs": [
    {
     "data": {
      "text/plain": [
       "((4, 1, 5),\n",
       " array([[[0.70862575, 0.66907621, 0.5672052 , 0.11716727, 0.83550667],\n",
       "         [0.08118818, 0.18005281, 0.08683709, 0.80563281, 0.78716352],\n",
       "         [0.51540697, 0.22313665, 0.41122192, 0.07790869, 0.5698869 ],\n",
       "         [0.61933605, 0.25279966, 0.71515426, 0.86518066, 0.54043726]]]))"
      ]
     },
     "execution_count": 63,
     "metadata": {},
     "output_type": "execute_result"
    }
   ],
   "source": [
    "X[:,np.newaxis,:].shape, X[np.newaxis,:,:]"
   ]
  },
  {
   "cell_type": "code",
   "execution_count": 65,
   "metadata": {},
   "outputs": [
    {
     "ename": "ValueError",
     "evalue": "operands could not be broadcast together with shapes (4,5,1) (4,5) ",
     "output_type": "error",
     "traceback": [
      "\u001b[1;31m---------------------------------------------------------------------------\u001b[0m",
      "\u001b[1;31mValueError\u001b[0m                                Traceback (most recent call last)",
      "\u001b[1;32me:\\projects\\smml\\pegasos.ipynb Cell 4\u001b[0m in \u001b[0;36m<module>\u001b[1;34m\u001b[0m\n\u001b[1;32m----> <a href='vscode-notebook-cell:/e%3A/projects/smml/pegasos.ipynb#X32sZmlsZQ%3D%3D?line=0'>1</a>\u001b[0m X[:,:,np\u001b[39m.\u001b[39;49mnewaxis] \u001b[39m-\u001b[39;49m X\n",
      "\u001b[1;31mValueError\u001b[0m: operands could not be broadcast together with shapes (4,5,1) (4,5) "
     ]
    }
   ],
   "source": [
    "X[:,:,np.newaxis] - X"
   ]
  },
  {
   "cell_type": "code",
   "execution_count": 55,
   "metadata": {},
   "outputs": [
    {
     "data": {
      "text/plain": [
       "array([[-0.62743756, -0.4890234 , -0.4803681 ,  0.68846554, -0.04834315],\n",
       "       [ 0.43421879,  0.04308384,  0.32438483, -0.72772412, -0.21727662],\n",
       "       [ 0.10392908,  0.029663  ,  0.30393234,  0.78727197, -0.02944963]])"
      ]
     },
     "execution_count": 55,
     "metadata": {},
     "output_type": "execute_result"
    }
   ],
   "source": [
    "np.diff(X, axis=0)"
   ]
  },
  {
   "cell_type": "code",
   "execution_count": 34,
   "metadata": {},
   "outputs": [
    {
     "data": {
      "text/plain": [
       "7.938685748177334"
      ]
     },
     "execution_count": 34,
     "metadata": {},
     "output_type": "execute_result"
    }
   ],
   "source": [
    "X_norm = np.linalg.norm(X) ** 2\n",
    "X_norm"
   ]
  },
  {
   "cell_type": "code",
   "execution_count": 38,
   "metadata": {},
   "outputs": [
    {
     "data": {
      "text/plain": [
       "array([[1.98859028, 1.95392214, 1.31316319, 1.51380042],\n",
       "       [1.95392214, 2.73804611, 1.66683538, 1.71664197],\n",
       "       [1.31316319, 1.66683538, 1.57363879, 1.39981727],\n",
       "       [1.51380042, 1.71664197, 1.39981727, 1.63841057]])"
      ]
     },
     "execution_count": 38,
     "metadata": {},
     "output_type": "execute_result"
    }
   ],
   "source": [
    "np.dot(X, X.T)"
   ]
  },
  {
   "cell_type": "code",
   "execution_count": 36,
   "metadata": {},
   "outputs": [
    {
     "data": {
      "text/plain": [
       "array([1.98859028, 2.73804611, 1.57363879, 1.63841057])"
      ]
     },
     "execution_count": 36,
     "metadata": {},
     "output_type": "execute_result"
    }
   ],
   "source": [
    "np.sum(X ** 2, axis=-1)"
   ]
  },
  {
   "cell_type": "code",
   "execution_count": 51,
   "metadata": {},
   "outputs": [
    {
     "data": {
      "text/plain": [
       "array([[1.        , 0.06857726, 0.51414861, 0.18277937],\n",
       "       [0.06857726, 1.        , 0.17467321, 0.22130909],\n",
       "       [0.51414861, 0.17467321, 1.        , 0.23470147],\n",
       "       [0.18277937, 0.22130909, 0.23470147, 1.        ]])"
      ]
     },
     "execution_count": 51,
     "metadata": {},
     "output_type": "execute_result"
    }
   ],
   "source": [
    "res1 = np.zeros((X.shape[0],X.shape[0]))\n",
    "\n",
    "for i in range(0,X.shape[0]):\n",
    "    for j in range(0,X.shape[0]):\n",
    "        res1[i,j] = K(X[i], X[j])\n",
    "\n",
    "res1"
   ]
  },
  {
   "cell_type": "code",
   "execution_count": 50,
   "metadata": {},
   "outputs": [
    {
     "data": {
      "text/plain": [
       "array([[1.        , 0.06857726, 0.51414861, 0.18277937],\n",
       "       [0.06857726, 1.        , 0.17467321, 0.22130909],\n",
       "       [0.51414861, 0.17467321, 1.        , 0.23470147],\n",
       "       [0.18277937, 0.22130909, 0.23470147, 1.        ]])"
      ]
     },
     "execution_count": 50,
     "metadata": {},
     "output_type": "execute_result"
    }
   ],
   "source": [
    "X_norm = np.sum(X ** 2, axis=-1)\n",
    "np.exp(-(X_norm[:,None] + X_norm[None,:] - 2 * np.dot(X, X.T)) / (2 * 0.25))"
   ]
  },
  {
   "cell_type": "code",
   "execution_count": null,
   "metadata": {},
   "outputs": [],
   "source": []
  },
  {
   "cell_type": "code",
   "execution_count": null,
   "metadata": {},
   "outputs": [],
   "source": []
  },
  {
   "cell_type": "code",
   "execution_count": null,
   "metadata": {},
   "outputs": [],
   "source": []
  },
  {
   "cell_type": "code",
   "execution_count": 90,
   "metadata": {},
   "outputs": [],
   "source": [
    "PATH = '../../datasets/usps/usps.h5'\n",
    "with h5py.File(PATH, 'r') as hf:\n",
    "        train = hf.get('train')\n",
    "        X_tr = train.get('data')[:]\n",
    "        y_tr = train.get('target')[:]\n",
    "        test = hf.get('test')\n",
    "        X_te = test.get('data')[:]\n",
    "        y_te = test.get('target')[:]"
   ]
  },
  {
   "cell_type": "code",
   "execution_count": 104,
   "metadata": {},
   "outputs": [],
   "source": [
    "class Pegasos:\n",
    "    def __init__(self, l=0.5, T=1000, K=GaussianKernel(), seed=42):\n",
    "        self.l = l\n",
    "        self.T = T\n",
    "        self.K = K\n",
    "        self.seed = seed\n",
    "\n",
    "    def fit(self, X : np.ndarray, y : np.ndarray):\n",
    "        if (self.l <= 0): \n",
    "            raise ValueError('Parameter lambda is not strictly positive')\n",
    "\n",
    "        self.X_train = X\n",
    "        self.y_train = y\n",
    "        self.alphas = np.zeros(X.shape[0]) # Keep sparse data struct?\n",
    "        rng = default_rng(self.seed)\n",
    "\n",
    "        for t in tqdm(range(1, self.T + 1)):\n",
    "            i = rng.integers(X.shape[0])\n",
    "            s = np.sum(\n",
    "                [self.alphas[j] * y[j] * self.K(X[j], X[i]) \n",
    "                 for j in range(X.shape[0])])\n",
    "            if (y[i] / (self.l * t)) * s < 1:\n",
    "                self.alphas[i] += 1\n",
    "\n",
    "    def predict(self, X):\n",
    "        #TODO: check if we can remove eta, sign should not change\n",
    "\n",
    "        return np.array(\n",
    "            [np.sign((1 / (self.l * self.T)) \n",
    "                     * np.sum([self.alphas[j] * self.y_train[j] * self.K(self.X_train[j], x) \n",
    "                               for j in range(self.X_train.shape[0])])) for x in X])"
   ]
  },
  {
   "cell_type": "code",
   "execution_count": null,
   "metadata": {},
   "outputs": [],
   "source": [
    "class MulticlassPegasos:\n",
    "    pass\n",
    "    # should train multiple pegasos etc"
   ]
  },
  {
   "cell_type": "code",
   "execution_count": 91,
   "metadata": {},
   "outputs": [
    {
     "data": {
      "text/plain": [
       "array([6, 5, 4, ..., 3, 0, 1])"
      ]
     },
     "execution_count": 91,
     "metadata": {},
     "output_type": "execute_result"
    }
   ],
   "source": [
    "y_tr"
   ]
  },
  {
   "cell_type": "code",
   "execution_count": 97,
   "metadata": {},
   "outputs": [],
   "source": [
    "y_tr_0 = np.where(y_tr == 0, 1, -1)"
   ]
  },
  {
   "cell_type": "code",
   "execution_count": 105,
   "metadata": {},
   "outputs": [],
   "source": [
    "pegasos = Pegasos()"
   ]
  },
  {
   "cell_type": "code",
   "execution_count": 106,
   "metadata": {},
   "outputs": [
    {
     "name": "stderr",
     "output_type": "stream",
     "text": [
      "100%|██████████| 1000/1000 [01:17<00:00, 12.86it/s]\n"
     ]
    }
   ],
   "source": [
    "pegasos.fit(X_tr, y_tr_0)"
   ]
  },
  {
   "cell_type": "code",
   "execution_count": 107,
   "metadata": {},
   "outputs": [],
   "source": [
    "y_pred = pegasos.predict(X_te)"
   ]
  },
  {
   "cell_type": "code",
   "execution_count": 108,
   "metadata": {},
   "outputs": [
    {
     "data": {
      "text/plain": [
       "array([-1., -1., -1., ..., -1.,  1., -1.])"
      ]
     },
     "execution_count": 108,
     "metadata": {},
     "output_type": "execute_result"
    }
   ],
   "source": [
    "y_pred"
   ]
  },
  {
   "cell_type": "code",
   "execution_count": 110,
   "metadata": {},
   "outputs": [],
   "source": [
    "y_te_0 = np.where(y_te == 0, 1, -1)"
   ]
  },
  {
   "cell_type": "code",
   "execution_count": 111,
   "metadata": {},
   "outputs": [
    {
     "data": {
      "text/plain": [
       "0.9825610363726955"
      ]
     },
     "execution_count": 111,
     "metadata": {},
     "output_type": "execute_result"
    }
   ],
   "source": [
    "accuracy_score(y_pred, y_te_0)"
   ]
  }
 ],
 "metadata": {
  "kernelspec": {
   "display_name": "tf_p3.9",
   "language": "python",
   "name": "python3"
  },
  "language_info": {
   "codemirror_mode": {
    "name": "ipython",
    "version": 3
   },
   "file_extension": ".py",
   "mimetype": "text/x-python",
   "name": "python",
   "nbconvert_exporter": "python",
   "pygments_lexer": "ipython3",
   "version": "3.9.5"
  },
  "orig_nbformat": 4
 },
 "nbformat": 4,
 "nbformat_minor": 2
}
